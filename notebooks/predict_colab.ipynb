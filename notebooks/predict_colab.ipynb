{
  "nbformat": 4,
  "nbformat_minor": 0,
  "metadata": {
    "colab": {
      "provenance": []
    },
    "kernelspec": {
      "name": "python3",
      "display_name": "Python 3"
    },
    "language_info": {
      "name": "python"
    }
  },
  "cells": [
    {
      "cell_type": "markdown",
      "source": [
        "# matten\n",
        "\n",
        "[![Open In Colab](https://colab.research.google.com/assets/colab-badge.svg)](https://colab.research.google.com/github/wengroup/matten/blob/main/notebooks/predict_colab.ipynb)\n",
        "\n",
        "\n",
        "[MatTen](https://github.com/wengroup/matten) is an equivariant graph neural network model for the prediction of tensorial properties of materials.\n",
        "\n",
        "In this example notebook, we predict the elasticity tensor of a diamond cubic Silicon."
      ],
      "metadata": {
        "id": "L4MnRfEaqlXB"
      }
    },
    {
      "cell_type": "markdown",
      "source": [
        "## Install dependencies"
      ],
      "metadata": {
        "id": "D6b0IzStsV8x"
      }
    },
    {
      "cell_type": "code",
      "source": [
        "!pip install torch>=2.0.0"
      ],
      "metadata": {
        "id": "Q4nAe1kLs_V9"
      },
      "execution_count": 1,
      "outputs": []
    },
    {
      "cell_type": "code",
      "source": [
        "!pip install torch_geometric"
      ],
      "metadata": {
        "colab": {
          "base_uri": "https://localhost:8080/"
        },
        "id": "sZA7Z-ZSzmOT",
        "outputId": "c575f90c-9fc0-4492-fdd3-3932757fd028"
      },
      "execution_count": 2,
      "outputs": [
        {
          "output_type": "stream",
          "name": "stdout",
          "text": [
            "Requirement already satisfied: torch_geometric in /usr/local/lib/python3.10/dist-packages (2.3.1)\n",
            "Requirement already satisfied: tqdm in /usr/local/lib/python3.10/dist-packages (from torch_geometric) (4.65.0)\n",
            "Requirement already satisfied: numpy in /usr/local/lib/python3.10/dist-packages (from torch_geometric) (1.22.4)\n",
            "Requirement already satisfied: scipy in /usr/local/lib/python3.10/dist-packages (from torch_geometric) (1.10.1)\n",
            "Requirement already satisfied: jinja2 in /usr/local/lib/python3.10/dist-packages (from torch_geometric) (3.1.2)\n",
            "Requirement already satisfied: requests in /usr/local/lib/python3.10/dist-packages (from torch_geometric) (2.27.1)\n",
            "Requirement already satisfied: pyparsing in /usr/local/lib/python3.10/dist-packages (from torch_geometric) (3.1.0)\n",
            "Requirement already satisfied: scikit-learn in /usr/local/lib/python3.10/dist-packages (from torch_geometric) (1.2.2)\n",
            "Requirement already satisfied: psutil>=5.8.0 in /usr/local/lib/python3.10/dist-packages (from torch_geometric) (5.9.5)\n",
            "Requirement already satisfied: MarkupSafe>=2.0 in /usr/local/lib/python3.10/dist-packages (from jinja2->torch_geometric) (2.1.3)\n",
            "Requirement already satisfied: urllib3<1.27,>=1.21.1 in /usr/local/lib/python3.10/dist-packages (from requests->torch_geometric) (1.26.16)\n",
            "Requirement already satisfied: certifi>=2017.4.17 in /usr/local/lib/python3.10/dist-packages (from requests->torch_geometric) (2023.5.7)\n",
            "Requirement already satisfied: charset-normalizer~=2.0.0 in /usr/local/lib/python3.10/dist-packages (from requests->torch_geometric) (2.0.12)\n",
            "Requirement already satisfied: idna<4,>=2.5 in /usr/local/lib/python3.10/dist-packages (from requests->torch_geometric) (3.4)\n",
            "Requirement already satisfied: joblib>=1.1.1 in /usr/local/lib/python3.10/dist-packages (from scikit-learn->torch_geometric) (1.2.0)\n",
            "Requirement already satisfied: threadpoolctl>=2.0.0 in /usr/local/lib/python3.10/dist-packages (from scikit-learn->torch_geometric) (3.1.0)\n"
          ]
        }
      ]
    },
    {
      "cell_type": "code",
      "source": [
        "!pip install torch_scatter -f https://data.pyg.org/whl/torch-2.0.0+cpu.html"
      ],
      "metadata": {
        "colab": {
          "base_uri": "https://localhost:8080/"
        },
        "id": "5WcaKXjI17Fs",
        "outputId": "90afcaae-56f0-4662-8d72-da97e535a586"
      },
      "execution_count": 3,
      "outputs": [
        {
          "output_type": "stream",
          "name": "stdout",
          "text": [
            "Looking in links: https://data.pyg.org/whl/torch-2.0.0+cpu.html\n",
            "Requirement already satisfied: torch_scatter in /usr/local/lib/python3.10/dist-packages (2.1.1+pt20cpu)\n"
          ]
        }
      ]
    },
    {
      "cell_type": "code",
      "source": [
        "!pip install lightning>=2.0.0 torchmetrics"
      ],
      "metadata": {
        "id": "zNkueOm60v5j"
      },
      "execution_count": 4,
      "outputs": []
    },
    {
      "cell_type": "markdown",
      "source": [
        "## Install matten"
      ],
      "metadata": {
        "id": "4mMESDVvzm3X"
      }
    },
    {
      "cell_type": "code",
      "source": [
        "!rm -rf matten\n",
        "!git clone https://github.com/wengroup/matten\n",
        "!cd matten && git checkout 2f209e17d6141 && pip install -e ."
      ],
      "metadata": {
        "id": "9insKJSlsfUG",
        "colab": {
          "base_uri": "https://localhost:8080/"
        },
        "outputId": "795afcf0-75fd-4f8f-f271-a87970027786"
      },
      "execution_count": 5,
      "outputs": [
        {
          "output_type": "stream",
          "name": "stdout",
          "text": [
            "Cloning into 'matten'...\n",
            "remote: Enumerating objects: 88, done.\u001b[K\n",
            "remote: Counting objects:   1% (1/88)\u001b[K\rremote: Counting objects:   2% (2/88)\u001b[K\rremote: Counting objects:   3% (3/88)\u001b[K\rremote: Counting objects:   4% (4/88)\u001b[K\rremote: Counting objects:   5% (5/88)\u001b[K\rremote: Counting objects:   6% (6/88)\u001b[K\rremote: Counting objects:   7% (7/88)\u001b[K\rremote: Counting objects:   9% (8/88)\u001b[K\rremote: Counting objects:  10% (9/88)\u001b[K\rremote: Counting objects:  11% (10/88)\u001b[K\rremote: Counting objects:  12% (11/88)\u001b[K\rremote: Counting objects:  13% (12/88)\u001b[K\rremote: Counting objects:  14% (13/88)\u001b[K\rremote: Counting objects:  15% (14/88)\u001b[K\rremote: Counting objects:  17% (15/88)\u001b[K\rremote: Counting objects:  18% (16/88)\u001b[K\rremote: Counting objects:  19% (17/88)\u001b[K\rremote: Counting objects:  20% (18/88)\u001b[K\rremote: Counting objects:  21% (19/88)\u001b[K\rremote: Counting objects:  22% (20/88)\u001b[K\rremote: Counting objects:  23% (21/88)\u001b[K\rremote: Counting objects:  25% (22/88)\u001b[K\rremote: Counting objects:  26% (23/88)\u001b[K\rremote: Counting objects:  27% (24/88)\u001b[K\rremote: Counting objects:  28% (25/88)\u001b[K\rremote: Counting objects:  29% (26/88)\u001b[K\rremote: Counting objects:  30% (27/88)\u001b[K\rremote: Counting objects:  31% (28/88)\u001b[K\rremote: Counting objects:  32% (29/88)\u001b[K\rremote: Counting objects:  34% (30/88)\u001b[K\rremote: Counting objects:  35% (31/88)\u001b[K\rremote: Counting objects:  36% (32/88)\u001b[K\rremote: Counting objects:  37% (33/88)\u001b[K\rremote: Counting objects:  38% (34/88)\u001b[K\rremote: Counting objects:  39% (35/88)\u001b[K\rremote: Counting objects:  40% (36/88)\u001b[K\rremote: Counting objects:  42% (37/88)\u001b[K\rremote: Counting objects:  43% (38/88)\u001b[K\rremote: Counting objects:  44% (39/88)\u001b[K\rremote: Counting objects:  45% (40/88)\u001b[K\rremote: Counting objects:  46% (41/88)\u001b[K\rremote: Counting objects:  47% (42/88)\u001b[K\rremote: Counting objects:  48% (43/88)\u001b[K\rremote: Counting objects:  50% (44/88)\u001b[K\rremote: Counting objects:  51% (45/88)\u001b[K\rremote: Counting objects:  52% (46/88)\u001b[K\rremote: Counting objects:  53% (47/88)\u001b[K\rremote: Counting objects:  54% (48/88)\u001b[K\rremote: Counting objects:  55% (49/88)\u001b[K\rremote: Counting objects:  56% (50/88)\u001b[K\rremote: Counting objects:  57% (51/88)\u001b[K\rremote: Counting objects:  59% (52/88)\u001b[K\rremote: Counting objects:  60% (53/88)\u001b[K\rremote: Counting objects:  61% (54/88)\u001b[K\rremote: Counting objects:  62% (55/88)\u001b[K\rremote: Counting objects:  63% (56/88)\u001b[K\rremote: Counting objects:  64% (57/88)\u001b[K\rremote: Counting objects:  65% (58/88)\u001b[K\rremote: Counting objects:  67% (59/88)\u001b[K\rremote: Counting objects:  68% (60/88)\u001b[K\rremote: Counting objects:  69% (61/88)\u001b[K\rremote: Counting objects:  70% (62/88)\u001b[K\rremote: Counting objects:  71% (63/88)\u001b[K\rremote: Counting objects:  72% (64/88)\u001b[K\rremote: Counting objects:  73% (65/88)\u001b[K\rremote: Counting objects:  75% (66/88)\u001b[K\rremote: Counting objects:  76% (67/88)\u001b[K\rremote: Counting objects:  77% (68/88)\u001b[K\rremote: Counting objects:  78% (69/88)\u001b[K\rremote: Counting objects:  79% (70/88)\u001b[K\rremote: Counting objects:  80% (71/88)\u001b[K\rremote: Counting objects:  81% (72/88)\u001b[K\rremote: Counting objects:  82% (73/88)\u001b[K\rremote: Counting objects:  84% (74/88)\u001b[K\rremote: Counting objects:  85% (75/88)\u001b[K\rremote: Counting objects:  86% (76/88)\u001b[K\rremote: Counting objects:  87% (77/88)\u001b[K\rremote: Counting objects:  88% (78/88)\u001b[K\rremote: Counting objects:  89% (79/88)\u001b[K\rremote: Counting objects:  90% (80/88)\u001b[K\rremote: Counting objects:  92% (81/88)\u001b[K\rremote: Counting objects:  93% (82/88)\u001b[K\rremote: Counting objects:  94% (83/88)\u001b[K\rremote: Counting objects:  95% (84/88)\u001b[K\rremote: Counting objects:  96% (85/88)\u001b[K\rremote: Counting objects:  97% (86/88)\u001b[K\rremote: Counting objects:  98% (87/88)\u001b[K\rremote: Counting objects: 100% (88/88)\u001b[K\rremote: Counting objects: 100% (88/88), done.\u001b[K\n",
            "remote: Compressing objects:   1% (1/78)\u001b[K\rremote: Compressing objects:   2% (2/78)\u001b[K\rremote: Compressing objects:   3% (3/78)\u001b[K\rremote: Compressing objects:   5% (4/78)\u001b[K\rremote: Compressing objects:   6% (5/78)\u001b[K\rremote: Compressing objects:   7% (6/78)\u001b[K\rremote: Compressing objects:   8% (7/78)\u001b[K\rremote: Compressing objects:  10% (8/78)\u001b[K\rremote: Compressing objects:  11% (9/78)\u001b[K\rremote: Compressing objects:  12% (10/78)\u001b[K\rremote: Compressing objects:  14% (11/78)\u001b[K\rremote: Compressing objects:  15% (12/78)\u001b[K\rremote: Compressing objects:  16% (13/78)\u001b[K\rremote: Compressing objects:  17% (14/78)\u001b[K\rremote: Compressing objects:  19% (15/78)\u001b[K\rremote: Compressing objects:  20% (16/78)\u001b[K\rremote: Compressing objects:  21% (17/78)\u001b[K\rremote: Compressing objects:  23% (18/78)\u001b[K\rremote: Compressing objects:  24% (19/78)\u001b[K\rremote: Compressing objects:  25% (20/78)\u001b[K\rremote: Compressing objects:  26% (21/78)\u001b[K\rremote: Compressing objects:  28% (22/78)\u001b[K\rremote: Compressing objects:  29% (23/78)\u001b[K\rremote: Compressing objects:  30% (24/78)\u001b[K\rremote: Compressing objects:  32% (25/78)\u001b[K\rremote: Compressing objects:  33% (26/78)\u001b[K\rremote: Compressing objects:  34% (27/78)\u001b[K\rremote: Compressing objects:  35% (28/78)\u001b[K\rremote: Compressing objects:  37% (29/78)\u001b[K\rremote: Compressing objects:  38% (30/78)\u001b[K\rremote: Compressing objects:  39% (31/78)\u001b[K\rremote: Compressing objects:  41% (32/78)\u001b[K\rremote: Compressing objects:  42% (33/78)\u001b[K\rremote: Compressing objects:  43% (34/78)\u001b[K\rremote: Compressing objects:  44% (35/78)\u001b[K\rremote: Compressing objects:  46% (36/78)\u001b[K\rremote: Compressing objects:  47% (37/78)\u001b[K\rremote: Compressing objects:  48% (38/78)\u001b[K\rremote: Compressing objects:  50% (39/78)\u001b[K\rremote: Compressing objects:  51% (40/78)\u001b[K\rremote: Compressing objects:  52% (41/78)\u001b[K\rremote: Compressing objects:  53% (42/78)\u001b[K\rremote: Compressing objects:  55% (43/78)\u001b[K\rremote: Compressing objects:  56% (44/78)\u001b[K\rremote: Compressing objects:  57% (45/78)\u001b[K\rremote: Compressing objects:  58% (46/78)\u001b[K\rremote: Compressing objects:  60% (47/78)\u001b[K\rremote: Compressing objects:  61% (48/78)\u001b[K\rremote: Compressing objects:  62% (49/78)\u001b[K\rremote: Compressing objects:  64% (50/78)\u001b[K\rremote: Compressing objects:  65% (51/78)\u001b[K\rremote: Compressing objects:  66% (52/78)\u001b[K\rremote: Compressing objects:  67% (53/78)\u001b[K\rremote: Compressing objects:  69% (54/78)\u001b[K\rremote: Compressing objects:  70% (55/78)\u001b[K\rremote: Compressing objects:  71% (56/78)\u001b[K\rremote: Compressing objects:  73% (57/78)\u001b[K\rremote: Compressing objects:  74% (58/78)\u001b[K\rremote: Compressing objects:  75% (59/78)\u001b[K\rremote: Compressing objects:  76% (60/78)\u001b[K\rremote: Compressing objects:  78% (61/78)\u001b[K\rremote: Compressing objects:  79% (62/78)\u001b[K\rremote: Compressing objects:  80% (63/78)\u001b[K\rremote: Compressing objects:  82% (64/78)\u001b[K\rremote: Compressing objects:  83% (65/78)\u001b[K\rremote: Compressing objects:  84% (66/78)\u001b[K\rremote: Compressing objects:  85% (67/78)\u001b[K\rremote: Compressing objects:  87% (68/78)\u001b[K\rremote: Compressing objects:  88% (69/78)\u001b[K\rremote: Compressing objects:  89% (70/78)\u001b[K\rremote: Compressing objects:  91% (71/78)\u001b[K\rremote: Compressing objects:  92% (72/78)\u001b[K\rremote: Compressing objects:  93% (73/78)\u001b[K\rremote: Compressing objects:  94% (74/78)\u001b[K\rremote: Compressing objects:  96% (75/78)\u001b[K\rremote: Compressing objects:  97% (76/78)\u001b[K\rremote: Compressing objects:  98% (77/78)\u001b[K\rremote: Compressing objects: 100% (78/78)\u001b[K\rremote: Compressing objects: 100% (78/78), done.\u001b[K\n",
            "remote: Total 88 (delta 5), reused 86 (delta 3), pack-reused 0\u001b[K\n",
            "Unpacking objects: 100% (88/88), 32.16 MiB | 11.59 MiB/s, done.\n",
            "Note: switching to '2f209e17d6141'.\n",
            "\n",
            "You are in 'detached HEAD' state. You can look around, make experimental\n",
            "changes and commit them, and you can discard any commits you make in this\n",
            "state without impacting any branches by switching back to a branch.\n",
            "\n",
            "If you want to create a new branch to retain commits you create, you may\n",
            "do so (now or later) by using -c with the switch command. Example:\n",
            "\n",
            "  git switch -c <new-branch-name>\n",
            "\n",
            "Or undo this operation with:\n",
            "\n",
            "  git switch -\n",
            "\n",
            "Turn off this advice by setting config variable advice.detachedHead to false\n",
            "\n",
            "HEAD is now at 2f209e1 Update environment.yml\n",
            "Obtaining file:///content/matten\n",
            "  Installing build dependencies ... \u001b[?25l\u001b[?25hdone\n",
            "  Checking if build backend supports build_editable ... \u001b[?25l\u001b[?25hdone\n",
            "  Getting requirements to build editable ... \u001b[?25l\u001b[?25hdone\n",
            "  Preparing editable metadata (pyproject.toml) ... \u001b[?25l\u001b[?25hdone\n",
            "Requirement already satisfied: e3nn in /usr/local/lib/python3.10/dist-packages (from matten==0.0.1) (0.5.1)\n",
            "Requirement already satisfied: ase in /usr/local/lib/python3.10/dist-packages (from matten==0.0.1) (3.22.1)\n",
            "Requirement already satisfied: pymatgen in /usr/local/lib/python3.10/dist-packages (from matten==0.0.1) (2023.6.28)\n",
            "Requirement already satisfied: loguru in /usr/local/lib/python3.10/dist-packages (from matten==0.0.1) (0.7.0)\n",
            "Requirement already satisfied: torchtyping in /usr/local/lib/python3.10/dist-packages (from matten==0.0.1) (0.1.4)\n",
            "Requirement already satisfied: matplotlib>=3.1.0 in /usr/local/lib/python3.10/dist-packages (from ase->matten==0.0.1) (3.7.1)\n",
            "Requirement already satisfied: numpy>=1.15.0 in /usr/local/lib/python3.10/dist-packages (from ase->matten==0.0.1) (1.22.4)\n",
            "Requirement already satisfied: scipy>=1.1.0 in /usr/local/lib/python3.10/dist-packages (from ase->matten==0.0.1) (1.10.1)\n",
            "Requirement already satisfied: sympy in /usr/local/lib/python3.10/dist-packages (from e3nn->matten==0.0.1) (1.11.1)\n",
            "Requirement already satisfied: torch>=1.8.0 in /usr/local/lib/python3.10/dist-packages (from e3nn->matten==0.0.1) (2.0.1+cu118)\n",
            "Requirement already satisfied: opt-einsum-fx>=0.1.4 in /usr/local/lib/python3.10/dist-packages (from e3nn->matten==0.0.1) (0.1.4)\n",
            "Requirement already satisfied: frozendict in /usr/local/lib/python3.10/dist-packages (from pymatgen->matten==0.0.1) (2.3.8)\n",
            "Requirement already satisfied: monty>=3.0.2 in /usr/local/lib/python3.10/dist-packages (from pymatgen->matten==0.0.1) (2023.5.8)\n",
            "Requirement already satisfied: mp-api<0.34.0,>=0.27.3 in /usr/local/lib/python3.10/dist-packages (from pymatgen->matten==0.0.1) (0.33.3)\n",
            "Requirement already satisfied: networkx>=2.2 in /usr/local/lib/python3.10/dist-packages (from pymatgen->matten==0.0.1) (3.1)\n",
            "Requirement already satisfied: palettable>=3.1.1 in /usr/local/lib/python3.10/dist-packages (from pymatgen->matten==0.0.1) (3.3.3)\n",
            "Requirement already satisfied: pandas in /usr/local/lib/python3.10/dist-packages (from pymatgen->matten==0.0.1) (1.5.3)\n",
            "Requirement already satisfied: plotly>=4.5.0 in /usr/local/lib/python3.10/dist-packages (from pymatgen->matten==0.0.1) (5.13.1)\n",
            "Requirement already satisfied: pybtex in /usr/local/lib/python3.10/dist-packages (from pymatgen->matten==0.0.1) (0.24.0)\n",
            "Requirement already satisfied: requests in /usr/local/lib/python3.10/dist-packages (from pymatgen->matten==0.0.1) (2.27.1)\n",
            "Requirement already satisfied: ruamel.yaml>=0.17.0 in /usr/local/lib/python3.10/dist-packages (from pymatgen->matten==0.0.1) (0.17.32)\n",
            "Requirement already satisfied: spglib>=2.0.2 in /usr/local/lib/python3.10/dist-packages (from pymatgen->matten==0.0.1) (2.0.2)\n",
            "Requirement already satisfied: tabulate in /usr/local/lib/python3.10/dist-packages (from pymatgen->matten==0.0.1) (0.8.10)\n",
            "Requirement already satisfied: tqdm in /usr/local/lib/python3.10/dist-packages (from pymatgen->matten==0.0.1) (4.65.0)\n",
            "Requirement already satisfied: uncertainties>=3.1.4 in /usr/local/lib/python3.10/dist-packages (from pymatgen->matten==0.0.1) (3.1.7)\n",
            "Requirement already satisfied: typeguard>=2.11.1 in /usr/local/lib/python3.10/dist-packages (from torchtyping->matten==0.0.1) (4.0.0)\n",
            "Requirement already satisfied: contourpy>=1.0.1 in /usr/local/lib/python3.10/dist-packages (from matplotlib>=3.1.0->ase->matten==0.0.1) (1.1.0)\n",
            "Requirement already satisfied: cycler>=0.10 in /usr/local/lib/python3.10/dist-packages (from matplotlib>=3.1.0->ase->matten==0.0.1) (0.11.0)\n",
            "Requirement already satisfied: fonttools>=4.22.0 in /usr/local/lib/python3.10/dist-packages (from matplotlib>=3.1.0->ase->matten==0.0.1) (4.40.0)\n",
            "Requirement already satisfied: kiwisolver>=1.0.1 in /usr/local/lib/python3.10/dist-packages (from matplotlib>=3.1.0->ase->matten==0.0.1) (1.4.4)\n",
            "Requirement already satisfied: packaging>=20.0 in /usr/local/lib/python3.10/dist-packages (from matplotlib>=3.1.0->ase->matten==0.0.1) (23.1)\n",
            "Requirement already satisfied: pillow>=6.2.0 in /usr/local/lib/python3.10/dist-packages (from matplotlib>=3.1.0->ase->matten==0.0.1) (8.4.0)\n",
            "Requirement already satisfied: pyparsing>=2.3.1 in /usr/local/lib/python3.10/dist-packages (from matplotlib>=3.1.0->ase->matten==0.0.1) (3.1.0)\n",
            "Requirement already satisfied: python-dateutil>=2.7 in /usr/local/lib/python3.10/dist-packages (from matplotlib>=3.1.0->ase->matten==0.0.1) (2.8.2)\n",
            "Requirement already satisfied: setuptools in /usr/local/lib/python3.10/dist-packages (from mp-api<0.34.0,>=0.27.3->pymatgen->matten==0.0.1) (67.7.2)\n",
            "Requirement already satisfied: msgpack in /usr/local/lib/python3.10/dist-packages (from mp-api<0.34.0,>=0.27.3->pymatgen->matten==0.0.1) (1.0.5)\n",
            "Requirement already satisfied: typing-extensions>=3.7.4.1 in /usr/local/lib/python3.10/dist-packages (from mp-api<0.34.0,>=0.27.3->pymatgen->matten==0.0.1) (4.6.3)\n",
            "Requirement already satisfied: emmet-core>=0.54.0 in /usr/local/lib/python3.10/dist-packages (from mp-api<0.34.0,>=0.27.3->pymatgen->matten==0.0.1) (0.58.1)\n",
            "Requirement already satisfied: opt-einsum in /usr/local/lib/python3.10/dist-packages (from opt-einsum-fx>=0.1.4->e3nn->matten==0.0.1) (3.3.0)\n",
            "Requirement already satisfied: tenacity>=6.2.0 in /usr/local/lib/python3.10/dist-packages (from plotly>=4.5.0->pymatgen->matten==0.0.1) (8.2.2)\n",
            "Requirement already satisfied: urllib3<1.27,>=1.21.1 in /usr/local/lib/python3.10/dist-packages (from requests->pymatgen->matten==0.0.1) (1.26.16)\n",
            "Requirement already satisfied: certifi>=2017.4.17 in /usr/local/lib/python3.10/dist-packages (from requests->pymatgen->matten==0.0.1) (2023.5.7)\n",
            "Requirement already satisfied: charset-normalizer~=2.0.0 in /usr/local/lib/python3.10/dist-packages (from requests->pymatgen->matten==0.0.1) (2.0.12)\n",
            "Requirement already satisfied: idna<4,>=2.5 in /usr/local/lib/python3.10/dist-packages (from requests->pymatgen->matten==0.0.1) (3.4)\n",
            "Requirement already satisfied: ruamel.yaml.clib>=0.2.7 in /usr/local/lib/python3.10/dist-packages (from ruamel.yaml>=0.17.0->pymatgen->matten==0.0.1) (0.2.7)\n",
            "Requirement already satisfied: filelock in /usr/local/lib/python3.10/dist-packages (from torch>=1.8.0->e3nn->matten==0.0.1) (3.12.2)\n",
            "Requirement already satisfied: jinja2 in /usr/local/lib/python3.10/dist-packages (from torch>=1.8.0->e3nn->matten==0.0.1) (3.1.2)\n",
            "Requirement already satisfied: triton==2.0.0 in /usr/local/lib/python3.10/dist-packages (from torch>=1.8.0->e3nn->matten==0.0.1) (2.0.0)\n",
            "Requirement already satisfied: cmake in /usr/local/lib/python3.10/dist-packages (from triton==2.0.0->torch>=1.8.0->e3nn->matten==0.0.1) (3.25.2)\n",
            "Requirement already satisfied: lit in /usr/local/lib/python3.10/dist-packages (from triton==2.0.0->torch>=1.8.0->e3nn->matten==0.0.1) (16.0.6)\n",
            "Requirement already satisfied: future in /usr/local/lib/python3.10/dist-packages (from uncertainties>=3.1.4->pymatgen->matten==0.0.1) (0.18.3)\n",
            "Requirement already satisfied: pytz>=2020.1 in /usr/local/lib/python3.10/dist-packages (from pandas->pymatgen->matten==0.0.1) (2022.7.1)\n",
            "Requirement already satisfied: PyYAML>=3.01 in /usr/local/lib/python3.10/dist-packages (from pybtex->pymatgen->matten==0.0.1) (6.0)\n",
            "Requirement already satisfied: latexcodec>=1.0.4 in /usr/local/lib/python3.10/dist-packages (from pybtex->pymatgen->matten==0.0.1) (2.0.1)\n",
            "Requirement already satisfied: six in /usr/local/lib/python3.10/dist-packages (from pybtex->pymatgen->matten==0.0.1) (1.16.0)\n",
            "Requirement already satisfied: mpmath>=0.19 in /usr/local/lib/python3.10/dist-packages (from sympy->e3nn->matten==0.0.1) (1.3.0)\n",
            "Requirement already satisfied: pydantic<2.0,>=1.10.2 in /usr/local/lib/python3.10/dist-packages (from emmet-core>=0.54.0->mp-api<0.34.0,>=0.27.3->pymatgen->matten==0.0.1) (1.10.9)\n",
            "Requirement already satisfied: MarkupSafe>=2.0 in /usr/local/lib/python3.10/dist-packages (from jinja2->torch>=1.8.0->e3nn->matten==0.0.1) (2.1.3)\n",
            "Building wheels for collected packages: matten\n",
            "  Building editable for matten (pyproject.toml) ... \u001b[?25l\u001b[?25hdone\n",
            "  Created wheel for matten: filename=matten-0.0.1-0.editable-py3-none-any.whl size=1484 sha256=9376e8ba9a8c2259411219687d33f936d12469d717eddb01a49346aa9ae3786c\n",
            "  Stored in directory: /tmp/pip-ephem-wheel-cache-qi_ssxs1/wheels/42/ba/54/a8d5701f7af724cc7b68ce90cb76d48410ca37609cb057c41e\n",
            "Successfully built matten\n",
            "Installing collected packages: matten\n",
            "  Attempting uninstall: matten\n",
            "    Found existing installation: matten 0.0.1\n",
            "    Uninstalling matten-0.0.1:\n",
            "      Successfully uninstalled matten-0.0.1\n",
            "Successfully installed matten-0.0.1\n"
          ]
        }
      ]
    },
    {
      "cell_type": "markdown",
      "source": [
        "## import matten `predict` function"
      ],
      "metadata": {
        "id": "dLjLBviLxNT-"
      }
    },
    {
      "cell_type": "code",
      "source": [
        "from matten.predict import predict"
      ],
      "metadata": {
        "id": "F70qU4ZVxSBh"
      },
      "execution_count": 6,
      "outputs": []
    },
    {
      "cell_type": "markdown",
      "source": [
        "## Create a diamond structure to predict the elasticity"
      ],
      "metadata": {
        "id": "kVZHMlLQ3K7r"
      }
    },
    {
      "cell_type": "code",
      "source": [
        "from pymatgen.core import Structure\n",
        "\n",
        "a = 5.46\n",
        "lattice = [[0, a/2, a/2], [a/2, 0, a/2], [a/2, a/2, 0]]\n",
        "basis = [[0.0, 0.0, 0.0], [0.25, 0.25, 0.25]]\n",
        "Si = Structure(lattice, [\"Si\", \"Si\"], basis)"
      ],
      "metadata": {
        "id": "nQBlzsko3KGi"
      },
      "execution_count": 7,
      "outputs": []
    },
    {
      "cell_type": "code",
      "source": [
        "tensor = predict(Si)"
      ],
      "metadata": {
        "colab": {
          "base_uri": "https://localhost:8080/"
        },
        "id": "NkF-ajcs27es",
        "outputId": "2a2b8f12-e14d-4052-a454-27278d0777d7"
      },
      "execution_count": 8,
      "outputs": [
        {
          "output_type": "stream",
          "name": "stderr",
          "text": [
            "/usr/local/lib/python3.10/dist-packages/torch/jit/_check.py:172: UserWarning: The TorchScript type system doesn't support instance-level annotations on empty non-base types in `__init__`. Instead, either 1) use a type annotation in the class body, or 2) wrap the type in `torch.jit.Attribute`.\n",
            "  warnings.warn(\"The TorchScript type system doesn't support \"\n",
            "Processing...\n",
            "/usr/local/lib/python3.10/dist-packages/torch/jit/_check.py:172: UserWarning: The TorchScript type system doesn't support instance-level annotations on empty non-base types in `__init__`. Instead, either 1) use a type annotation in the class body, or 2) wrap the type in `torch.jit.Attribute`.\n",
            "  warnings.warn(\"The TorchScript type system doesn't support \"\n",
            "Done!\n",
            "100%|██████████| 1/1 [00:00<00:00,  2.49it/s]\n"
          ]
        }
      ]
    },
    {
      "cell_type": "markdown",
      "source": [
        "### The `predict` funciton returns a `pymatgen.analysis.elasticity.ElasticTensor` instance"
      ],
      "metadata": {
        "id": "1QlQz4q6Cr6G"
      }
    },
    {
      "cell_type": "code",
      "source": [
        "tensor.zeroed().voigt"
      ],
      "metadata": {
        "colab": {
          "base_uri": "https://localhost:8080/"
        },
        "id": "-cF7_dZL6kJm",
        "outputId": "577699bf-4d74-4926-8bd2-43bc79c6c6ea"
      },
      "execution_count": 9,
      "outputs": [
        {
          "output_type": "execute_result",
          "data": {
            "text/plain": [
              "array([[157.93902588,  58.26100922,  58.26100922,   0.        ,\n",
              "          0.        ,   0.        ],\n",
              "       [ 58.26100922, 157.93904114,  58.2610321 ,   0.        ,\n",
              "          0.        ,   0.        ],\n",
              "       [ 58.26100922,  58.2610321 , 157.9390564 ,   0.        ,\n",
              "          0.        ,   0.        ],\n",
              "       [  0.        ,   0.        ,   0.        ,  76.43084717,\n",
              "          0.        ,   0.        ],\n",
              "       [  0.        ,   0.        ,   0.        ,   0.        ,\n",
              "         76.43083191,   0.        ],\n",
              "       [  0.        ,   0.        ,   0.        ,   0.        ,\n",
              "          0.        ,  76.43083191]])"
            ]
          },
          "metadata": {},
          "execution_count": 9
        }
      ]
    },
    {
      "cell_type": "markdown",
      "source": [
        "To make predictions for multiple crystals, one can pass a list of structures to the `predict` function."
      ],
      "metadata": {
        "id": "51azOz4XDBv4"
      }
    },
    {
      "cell_type": "code",
      "source": [],
      "metadata": {
        "id": "wyUx0CwmDoKZ"
      },
      "execution_count": 9,
      "outputs": []
    }
  ]
}
