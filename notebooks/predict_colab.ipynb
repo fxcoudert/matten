{
  "nbformat": 4,
  "nbformat_minor": 0,
  "metadata": {
    "colab": {
      "provenance": []
    },
    "kernelspec": {
      "name": "python3",
      "display_name": "Python 3"
    },
    "language_info": {
      "name": "python"
    }
  },
  "cells": [
    {
      "cell_type": "markdown",
      "source": [
        "# matten\n",
        "\n",
        "[![Open In Colab](https://colab.research.google.com/assets/colab-badge.svg)](https://colab.research.google.com/github/wengroup/matten/blob/main/notebooks/predict_colab.ipynb)\n",
        "\n",
        "\n",
        "[MatTen](https://github.com/wengroup/matten) is an equivariant graph neural network model for the prediction of tensorial properties of materials.\n",
        "\n",
        "In this example notebook, we predict the elasticity tensor of a diamond cubic Silicon."
      ],
      "metadata": {
        "id": "L4MnRfEaqlXB"
      }
    },
    {
      "cell_type": "markdown",
      "source": [
        "## Install dependencies"
      ],
      "metadata": {
        "id": "D6b0IzStsV8x"
      }
    },
    {
      "cell_type": "code",
      "source": [
        "!pip install \"torch>=2.0.0\""
      ],
      "metadata": {
        "id": "Q4nAe1kLs_V9",
        "outputId": "d65f44e9-f6b8-411e-b3a3-968d1264fb63",
        "colab": {
          "base_uri": "https://localhost:8080/"
        }
      },
      "execution_count": 1,
      "outputs": [
        {
          "output_type": "stream",
          "name": "stdout",
          "text": [
            "Requirement already satisfied: torch>=2.0.0 in /usr/local/lib/python3.10/dist-packages (2.0.1+cu118)\n",
            "Requirement already satisfied: filelock in /usr/local/lib/python3.10/dist-packages (from torch>=2.0.0) (3.12.2)\n",
            "Requirement already satisfied: typing-extensions in /usr/local/lib/python3.10/dist-packages (from torch>=2.0.0) (4.7.1)\n",
            "Requirement already satisfied: sympy in /usr/local/lib/python3.10/dist-packages (from torch>=2.0.0) (1.12)\n",
            "Requirement already satisfied: networkx in /usr/local/lib/python3.10/dist-packages (from torch>=2.0.0) (3.1)\n",
            "Requirement already satisfied: jinja2 in /usr/local/lib/python3.10/dist-packages (from torch>=2.0.0) (3.1.2)\n",
            "Requirement already satisfied: triton==2.0.0 in /usr/local/lib/python3.10/dist-packages (from torch>=2.0.0) (2.0.0)\n",
            "Requirement already satisfied: cmake in /usr/local/lib/python3.10/dist-packages (from triton==2.0.0->torch>=2.0.0) (3.27.2)\n",
            "Requirement already satisfied: lit in /usr/local/lib/python3.10/dist-packages (from triton==2.0.0->torch>=2.0.0) (16.0.6)\n",
            "Requirement already satisfied: MarkupSafe>=2.0 in /usr/local/lib/python3.10/dist-packages (from jinja2->torch>=2.0.0) (2.1.3)\n",
            "Requirement already satisfied: mpmath>=0.19 in /usr/local/lib/python3.10/dist-packages (from sympy->torch>=2.0.0) (1.3.0)\n"
          ]
        }
      ]
    },
    {
      "cell_type": "markdown",
      "source": [
        "## Install matten"
      ],
      "metadata": {
        "id": "4mMESDVvzm3X"
      }
    },
    {
      "cell_type": "code",
      "source": [
        "!rm -rf matten\n",
        "!git clone https://github.com/wengroup/matten\n",
        "!cd matten && git checkout 04bc3fa && pip install -e ."
      ],
      "metadata": {
        "id": "9insKJSlsfUG",
        "colab": {
          "base_uri": "https://localhost:8080/"
        },
        "outputId": "bb71aec7-a40b-4d43-d6a4-944ee0067ebe"
      },
      "execution_count": 2,
      "outputs": [
        {
          "output_type": "stream",
          "name": "stdout",
          "text": [
            "Cloning into 'matten'...\n",
            "remote: Enumerating objects: 199, done.\u001b[K\n",
            "remote: Counting objects: 100% (199/199), done.\u001b[K\n",
            "remote: Compressing objects: 100% (123/123), done.\u001b[K\n",
            "remote: Total 199 (delta 73), reused 180 (delta 58), pack-reused 0\u001b[K\n",
            "Receiving objects: 100% (199/199), 32.17 MiB | 11.01 MiB/s, done.\n",
            "Resolving deltas: 100% (73/73), done.\n",
            "Note: switching to '04bc3fa'.\n",
            "\n",
            "You are in 'detached HEAD' state. You can look around, make experimental\n",
            "changes and commit them, and you can discard any commits you make in this\n",
            "state without impacting any branches by switching back to a branch.\n",
            "\n",
            "If you want to create a new branch to retain commits you create, you may\n",
            "do so (now or later) by using -c with the switch command. Example:\n",
            "\n",
            "  git switch -c <new-branch-name>\n",
            "\n",
            "Or undo this operation with:\n",
            "\n",
            "  git switch -\n",
            "\n",
            "Turn off this advice by setting config variable advice.detachedHead to false\n",
            "\n",
            "HEAD is now at 04bc3fa Merge pull request #3 from wengroup/devel\n",
            "Obtaining file:///content/matten\n",
            "  Installing build dependencies ... \u001b[?25l\u001b[?25hdone\n",
            "  Checking if build backend supports build_editable ... \u001b[?25l\u001b[?25hdone\n",
            "  Getting requirements to build editable ... \u001b[?25l\u001b[?25hdone\n",
            "  Preparing editable metadata (pyproject.toml) ... \u001b[?25l\u001b[?25hdone\n",
            "Requirement already satisfied: pytorch-lightning>=2.0.0 in /usr/local/lib/python3.10/dist-packages (from matten==0.0.1) (2.0.7)\n",
            "Requirement already satisfied: torchmetrics<1.0.0,>=0.10.0 in /usr/local/lib/python3.10/dist-packages (from matten==0.0.1) (0.11.4)\n",
            "Requirement already satisfied: torch-geometric>=2.3.0 in /usr/local/lib/python3.10/dist-packages (from matten==0.0.1) (2.3.1)\n",
            "Requirement already satisfied: torch-scatter in /usr/local/lib/python3.10/dist-packages (from matten==0.0.1) (2.1.1)\n",
            "Requirement already satisfied: e3nn in /usr/local/lib/python3.10/dist-packages (from matten==0.0.1) (0.5.1)\n",
            "Requirement already satisfied: ase in /usr/local/lib/python3.10/dist-packages (from matten==0.0.1) (3.22.1)\n",
            "Requirement already satisfied: pymatgen in /usr/local/lib/python3.10/dist-packages (from matten==0.0.1) (2023.8.10)\n",
            "Requirement already satisfied: loguru in /usr/local/lib/python3.10/dist-packages (from matten==0.0.1) (0.7.0)\n",
            "Requirement already satisfied: torchtyping in /usr/local/lib/python3.10/dist-packages (from matten==0.0.1) (0.1.4)\n",
            "Requirement already satisfied: numpy>=1.17.2 in /usr/local/lib/python3.10/dist-packages (from pytorch-lightning>=2.0.0->matten==0.0.1) (1.23.5)\n",
            "Requirement already satisfied: torch>=1.11.0 in /usr/local/lib/python3.10/dist-packages (from pytorch-lightning>=2.0.0->matten==0.0.1) (2.0.1+cu118)\n",
            "Requirement already satisfied: tqdm>=4.57.0 in /usr/local/lib/python3.10/dist-packages (from pytorch-lightning>=2.0.0->matten==0.0.1) (4.66.1)\n",
            "Requirement already satisfied: PyYAML>=5.4 in /usr/local/lib/python3.10/dist-packages (from pytorch-lightning>=2.0.0->matten==0.0.1) (6.0.1)\n",
            "Requirement already satisfied: fsspec[http]>2021.06.0 in /usr/local/lib/python3.10/dist-packages (from pytorch-lightning>=2.0.0->matten==0.0.1) (2023.6.0)\n",
            "Requirement already satisfied: packaging>=17.1 in /usr/local/lib/python3.10/dist-packages (from pytorch-lightning>=2.0.0->matten==0.0.1) (23.1)\n",
            "Requirement already satisfied: typing-extensions>=4.0.0 in /usr/local/lib/python3.10/dist-packages (from pytorch-lightning>=2.0.0->matten==0.0.1) (4.7.1)\n",
            "Requirement already satisfied: lightning-utilities>=0.7.0 in /usr/local/lib/python3.10/dist-packages (from pytorch-lightning>=2.0.0->matten==0.0.1) (0.9.0)\n",
            "Requirement already satisfied: scipy in /usr/local/lib/python3.10/dist-packages (from torch-geometric>=2.3.0->matten==0.0.1) (1.10.1)\n",
            "Requirement already satisfied: jinja2 in /usr/local/lib/python3.10/dist-packages (from torch-geometric>=2.3.0->matten==0.0.1) (3.1.2)\n",
            "Requirement already satisfied: requests in /usr/local/lib/python3.10/dist-packages (from torch-geometric>=2.3.0->matten==0.0.1) (2.31.0)\n",
            "Requirement already satisfied: pyparsing in /usr/local/lib/python3.10/dist-packages (from torch-geometric>=2.3.0->matten==0.0.1) (3.1.1)\n",
            "Requirement already satisfied: scikit-learn in /usr/local/lib/python3.10/dist-packages (from torch-geometric>=2.3.0->matten==0.0.1) (1.2.2)\n",
            "Requirement already satisfied: psutil>=5.8.0 in /usr/local/lib/python3.10/dist-packages (from torch-geometric>=2.3.0->matten==0.0.1) (5.9.5)\n",
            "Requirement already satisfied: matplotlib>=3.1.0 in /usr/local/lib/python3.10/dist-packages (from ase->matten==0.0.1) (3.7.1)\n",
            "Requirement already satisfied: sympy in /usr/local/lib/python3.10/dist-packages (from e3nn->matten==0.0.1) (1.12)\n",
            "Requirement already satisfied: opt-einsum-fx>=0.1.4 in /usr/local/lib/python3.10/dist-packages (from e3nn->matten==0.0.1) (0.1.4)\n",
            "Requirement already satisfied: monty>=3.0.2 in /usr/local/lib/python3.10/dist-packages (from pymatgen->matten==0.0.1) (2023.8.8)\n",
            "Requirement already satisfied: mp-api>=0.27.3 in /usr/local/lib/python3.10/dist-packages (from pymatgen->matten==0.0.1) (0.34.3)\n",
            "Requirement already satisfied: networkx>=2.2 in /usr/local/lib/python3.10/dist-packages (from pymatgen->matten==0.0.1) (3.1)\n",
            "Requirement already satisfied: palettable>=3.1.1 in /usr/local/lib/python3.10/dist-packages (from pymatgen->matten==0.0.1) (3.3.3)\n",
            "Requirement already satisfied: pandas in /usr/local/lib/python3.10/dist-packages (from pymatgen->matten==0.0.1) (1.5.3)\n",
            "Requirement already satisfied: plotly>=4.5.0 in /usr/local/lib/python3.10/dist-packages (from pymatgen->matten==0.0.1) (5.15.0)\n",
            "Requirement already satisfied: pybtex in /usr/local/lib/python3.10/dist-packages (from pymatgen->matten==0.0.1) (0.24.0)\n",
            "Requirement already satisfied: pydantic<2.0.0 in /usr/local/lib/python3.10/dist-packages (from pymatgen->matten==0.0.1) (1.10.12)\n",
            "Requirement already satisfied: ruamel.yaml>=0.17.0 in /usr/local/lib/python3.10/dist-packages (from pymatgen->matten==0.0.1) (0.17.32)\n",
            "Requirement already satisfied: spglib>=2.0.2 in /usr/local/lib/python3.10/dist-packages (from pymatgen->matten==0.0.1) (2.0.2)\n",
            "Requirement already satisfied: tabulate in /usr/local/lib/python3.10/dist-packages (from pymatgen->matten==0.0.1) (0.9.0)\n",
            "Requirement already satisfied: uncertainties>=3.1.4 in /usr/local/lib/python3.10/dist-packages (from pymatgen->matten==0.0.1) (3.1.7)\n",
            "Requirement already satisfied: joblib in /usr/local/lib/python3.10/dist-packages (from pymatgen->matten==0.0.1) (1.3.2)\n",
            "Requirement already satisfied: typeguard>=2.11.1 in /usr/local/lib/python3.10/dist-packages (from torchtyping->matten==0.0.1) (4.1.2)\n",
            "Requirement already satisfied: aiohttp!=4.0.0a0,!=4.0.0a1 in /usr/local/lib/python3.10/dist-packages (from fsspec[http]>2021.06.0->pytorch-lightning>=2.0.0->matten==0.0.1) (3.8.5)\n",
            "Requirement already satisfied: contourpy>=1.0.1 in /usr/local/lib/python3.10/dist-packages (from matplotlib>=3.1.0->ase->matten==0.0.1) (1.1.0)\n",
            "Requirement already satisfied: cycler>=0.10 in /usr/local/lib/python3.10/dist-packages (from matplotlib>=3.1.0->ase->matten==0.0.1) (0.11.0)\n",
            "Requirement already satisfied: fonttools>=4.22.0 in /usr/local/lib/python3.10/dist-packages (from matplotlib>=3.1.0->ase->matten==0.0.1) (4.42.0)\n",
            "Requirement already satisfied: kiwisolver>=1.0.1 in /usr/local/lib/python3.10/dist-packages (from matplotlib>=3.1.0->ase->matten==0.0.1) (1.4.4)\n",
            "Requirement already satisfied: pillow>=6.2.0 in /usr/local/lib/python3.10/dist-packages (from matplotlib>=3.1.0->ase->matten==0.0.1) (9.4.0)\n",
            "Requirement already satisfied: python-dateutil>=2.7 in /usr/local/lib/python3.10/dist-packages (from matplotlib>=3.1.0->ase->matten==0.0.1) (2.8.2)\n",
            "Requirement already satisfied: setuptools in /usr/local/lib/python3.10/dist-packages (from mp-api>=0.27.3->pymatgen->matten==0.0.1) (67.7.2)\n",
            "Requirement already satisfied: msgpack in /usr/local/lib/python3.10/dist-packages (from mp-api>=0.27.3->pymatgen->matten==0.0.1) (1.0.5)\n",
            "Requirement already satisfied: emmet-core>=0.54.0 in /usr/local/lib/python3.10/dist-packages (from mp-api>=0.27.3->pymatgen->matten==0.0.1) (0.65.0)\n",
            "Requirement already satisfied: opt-einsum in /usr/local/lib/python3.10/dist-packages (from opt-einsum-fx>=0.1.4->e3nn->matten==0.0.1) (3.3.0)\n",
            "Requirement already satisfied: tenacity>=6.2.0 in /usr/local/lib/python3.10/dist-packages (from plotly>=4.5.0->pymatgen->matten==0.0.1) (8.2.3)\n",
            "Requirement already satisfied: charset-normalizer<4,>=2 in /usr/local/lib/python3.10/dist-packages (from requests->torch-geometric>=2.3.0->matten==0.0.1) (3.2.0)\n",
            "Requirement already satisfied: idna<4,>=2.5 in /usr/local/lib/python3.10/dist-packages (from requests->torch-geometric>=2.3.0->matten==0.0.1) (3.4)\n",
            "Requirement already satisfied: urllib3<3,>=1.21.1 in /usr/local/lib/python3.10/dist-packages (from requests->torch-geometric>=2.3.0->matten==0.0.1) (2.0.4)\n",
            "Requirement already satisfied: certifi>=2017.4.17 in /usr/local/lib/python3.10/dist-packages (from requests->torch-geometric>=2.3.0->matten==0.0.1) (2023.7.22)\n",
            "Requirement already satisfied: ruamel.yaml.clib>=0.2.7 in /usr/local/lib/python3.10/dist-packages (from ruamel.yaml>=0.17.0->pymatgen->matten==0.0.1) (0.2.7)\n",
            "Requirement already satisfied: filelock in /usr/local/lib/python3.10/dist-packages (from torch>=1.11.0->pytorch-lightning>=2.0.0->matten==0.0.1) (3.12.2)\n",
            "Requirement already satisfied: triton==2.0.0 in /usr/local/lib/python3.10/dist-packages (from torch>=1.11.0->pytorch-lightning>=2.0.0->matten==0.0.1) (2.0.0)\n",
            "Requirement already satisfied: cmake in /usr/local/lib/python3.10/dist-packages (from triton==2.0.0->torch>=1.11.0->pytorch-lightning>=2.0.0->matten==0.0.1) (3.27.2)\n",
            "Requirement already satisfied: lit in /usr/local/lib/python3.10/dist-packages (from triton==2.0.0->torch>=1.11.0->pytorch-lightning>=2.0.0->matten==0.0.1) (16.0.6)\n",
            "Requirement already satisfied: future in /usr/local/lib/python3.10/dist-packages (from uncertainties>=3.1.4->pymatgen->matten==0.0.1) (0.18.3)\n",
            "Requirement already satisfied: MarkupSafe>=2.0 in /usr/local/lib/python3.10/dist-packages (from jinja2->torch-geometric>=2.3.0->matten==0.0.1) (2.1.3)\n",
            "Requirement already satisfied: pytz>=2020.1 in /usr/local/lib/python3.10/dist-packages (from pandas->pymatgen->matten==0.0.1) (2023.3)\n",
            "Requirement already satisfied: latexcodec>=1.0.4 in /usr/local/lib/python3.10/dist-packages (from pybtex->pymatgen->matten==0.0.1) (2.0.1)\n",
            "Requirement already satisfied: six in /usr/local/lib/python3.10/dist-packages (from pybtex->pymatgen->matten==0.0.1) (1.16.0)\n",
            "Requirement already satisfied: threadpoolctl>=2.0.0 in /usr/local/lib/python3.10/dist-packages (from scikit-learn->torch-geometric>=2.3.0->matten==0.0.1) (3.2.0)\n",
            "Requirement already satisfied: mpmath>=0.19 in /usr/local/lib/python3.10/dist-packages (from sympy->e3nn->matten==0.0.1) (1.3.0)\n",
            "Requirement already satisfied: attrs>=17.3.0 in /usr/local/lib/python3.10/dist-packages (from aiohttp!=4.0.0a0,!=4.0.0a1->fsspec[http]>2021.06.0->pytorch-lightning>=2.0.0->matten==0.0.1) (23.1.0)\n",
            "Requirement already satisfied: multidict<7.0,>=4.5 in /usr/local/lib/python3.10/dist-packages (from aiohttp!=4.0.0a0,!=4.0.0a1->fsspec[http]>2021.06.0->pytorch-lightning>=2.0.0->matten==0.0.1) (6.0.4)\n",
            "Requirement already satisfied: async-timeout<5.0,>=4.0.0a3 in /usr/local/lib/python3.10/dist-packages (from aiohttp!=4.0.0a0,!=4.0.0a1->fsspec[http]>2021.06.0->pytorch-lightning>=2.0.0->matten==0.0.1) (4.0.3)\n",
            "Requirement already satisfied: yarl<2.0,>=1.0 in /usr/local/lib/python3.10/dist-packages (from aiohttp!=4.0.0a0,!=4.0.0a1->fsspec[http]>2021.06.0->pytorch-lightning>=2.0.0->matten==0.0.1) (1.9.2)\n",
            "Requirement already satisfied: frozenlist>=1.1.1 in /usr/local/lib/python3.10/dist-packages (from aiohttp!=4.0.0a0,!=4.0.0a1->fsspec[http]>2021.06.0->pytorch-lightning>=2.0.0->matten==0.0.1) (1.4.0)\n",
            "Requirement already satisfied: aiosignal>=1.1.2 in /usr/local/lib/python3.10/dist-packages (from aiohttp!=4.0.0a0,!=4.0.0a1->fsspec[http]>2021.06.0->pytorch-lightning>=2.0.0->matten==0.0.1) (1.3.1)\n",
            "Building wheels for collected packages: matten\n",
            "  Building editable for matten (pyproject.toml) ... \u001b[?25l\u001b[?25hdone\n",
            "  Created wheel for matten: filename=matten-0.0.1-0.editable-py3-none-any.whl size=2122 sha256=ff368c04c52ba29d954b7ee3262bd4ddfdfbb5d71004ccc6c642c0689439e3a5\n",
            "  Stored in directory: /tmp/pip-ephem-wheel-cache-0j2qe4l1/wheels/42/ba/54/a8d5701f7af724cc7b68ce90cb76d48410ca37609cb057c41e\n",
            "Successfully built matten\n",
            "Installing collected packages: matten\n",
            "  Attempting uninstall: matten\n",
            "    Found existing installation: matten 0.0.1\n",
            "    Uninstalling matten-0.0.1:\n",
            "      Successfully uninstalled matten-0.0.1\n",
            "Successfully installed matten-0.0.1\n"
          ]
        }
      ]
    },
    {
      "cell_type": "markdown",
      "source": [
        "## import matten `predict` function"
      ],
      "metadata": {
        "id": "dLjLBviLxNT-"
      }
    },
    {
      "cell_type": "code",
      "source": [
        "from matten.predict import predict"
      ],
      "metadata": {
        "id": "F70qU4ZVxSBh"
      },
      "execution_count": 3,
      "outputs": []
    },
    {
      "cell_type": "markdown",
      "source": [
        "## Create a diamond structure to predict the elasticity"
      ],
      "metadata": {
        "id": "kVZHMlLQ3K7r"
      }
    },
    {
      "cell_type": "code",
      "source": [
        "from pymatgen.core import Structure\n",
        "\n",
        "a = 5.46\n",
        "lattice = [[0, a/2, a/2], [a/2, 0, a/2], [a/2, a/2, 0]]\n",
        "basis = [[0.0, 0.0, 0.0], [0.25, 0.25, 0.25]]\n",
        "Si = Structure(lattice, [\"Si\", \"Si\"], basis)"
      ],
      "metadata": {
        "id": "nQBlzsko3KGi"
      },
      "execution_count": 4,
      "outputs": []
    },
    {
      "cell_type": "code",
      "source": [
        "tensor = predict(Si)"
      ],
      "metadata": {
        "colab": {
          "base_uri": "https://localhost:8080/"
        },
        "id": "NkF-ajcs27es",
        "outputId": "689da208-daf8-41c0-8e35-cdc5108adbdf"
      },
      "execution_count": 5,
      "outputs": [
        {
          "output_type": "stream",
          "name": "stderr",
          "text": [
            "/usr/local/lib/python3.10/dist-packages/torch/jit/_check.py:172: UserWarning: The TorchScript type system doesn't support instance-level annotations on empty non-base types in `__init__`. Instead, either 1) use a type annotation in the class body, or 2) wrap the type in `torch.jit.Attribute`.\n",
            "  warnings.warn(\"The TorchScript type system doesn't support \"\n",
            "Processing...\n",
            "/usr/local/lib/python3.10/dist-packages/torch/jit/_check.py:172: UserWarning: The TorchScript type system doesn't support instance-level annotations on empty non-base types in `__init__`. Instead, either 1) use a type annotation in the class body, or 2) wrap the type in `torch.jit.Attribute`.\n",
            "  warnings.warn(\"The TorchScript type system doesn't support \"\n",
            "Done!\n",
            "100%|██████████| 1/1 [00:01<00:00,  1.67s/it]\n"
          ]
        }
      ]
    },
    {
      "cell_type": "markdown",
      "source": [
        "### The `predict` funciton returns a `pymatgen.analysis.elasticity.ElasticTensor` instance"
      ],
      "metadata": {
        "id": "1QlQz4q6Cr6G"
      }
    },
    {
      "cell_type": "code",
      "source": [
        "tensor.zeroed().voigt"
      ],
      "metadata": {
        "colab": {
          "base_uri": "https://localhost:8080/"
        },
        "id": "-cF7_dZL6kJm",
        "outputId": "0ce24638-8d09-4863-ebf7-ba2dc95cccd7"
      },
      "execution_count": 6,
      "outputs": [
        {
          "output_type": "execute_result",
          "data": {
            "text/plain": [
              "array([[157.93904114,  58.2610054 ,  58.26100159,   0.        ,\n",
              "          0.        ,   0.        ],\n",
              "       [ 58.2610054 , 157.9390564 ,  58.26102829,   0.        ,\n",
              "          0.        ,   0.        ],\n",
              "       [ 58.26100159,  58.26102829, 157.93907166,   0.        ,\n",
              "          0.        ,   0.        ],\n",
              "       [  0.        ,   0.        ,   0.        ,  76.43084717,\n",
              "          0.        ,   0.        ],\n",
              "       [  0.        ,   0.        ,   0.        ,   0.        ,\n",
              "         76.43082428,   0.        ],\n",
              "       [  0.        ,   0.        ,   0.        ,   0.        ,\n",
              "          0.        ,  76.43083191]])"
            ]
          },
          "metadata": {},
          "execution_count": 6
        }
      ]
    },
    {
      "cell_type": "markdown",
      "source": [
        "To make predictions for multiple crystals, one can pass a list of structures to the `predict` function."
      ],
      "metadata": {
        "id": "51azOz4XDBv4"
      }
    },
    {
      "cell_type": "code",
      "source": [],
      "metadata": {
        "id": "wyUx0CwmDoKZ"
      },
      "execution_count": 6,
      "outputs": []
    }
  ]
}
