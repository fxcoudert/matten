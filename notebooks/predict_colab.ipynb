{
  "nbformat": 4,
  "nbformat_minor": 0,
  "metadata": {
    "colab": {
      "provenance": []
    },
    "kernelspec": {
      "name": "python3",
      "display_name": "Python 3"
    },
    "language_info": {
      "name": "python"
    }
  },
  "cells": [
    {
      "cell_type": "markdown",
      "source": [
        "# matten\n",
        "\n",
        "[![Open In Colab](https://colab.research.google.com/assets/colab-badge.svg)](https://colab.research.google.com/github/wengroup/matten/blob/main/notebooks/predict_colab.ipynb)\n",
        "\n",
        "\n",
        "[MatTen](https://github.com/wengroup/matten) is an equivariant graph neural network model for the prediction of tensorial properties of materials."
      ],
      "metadata": {
        "id": "L4MnRfEaqlXB"
      }
    },
    {
      "cell_type": "code",
      "source": [],
      "metadata": {
        "id": "vhxEz8zJqTOR"
      },
      "execution_count": null,
      "outputs": []
    }
  ]
}
